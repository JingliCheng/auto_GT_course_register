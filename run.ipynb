{
 "cells": [
  {
   "cell_type": "code",
   "execution_count": 2,
   "metadata": {},
   "outputs": [],
   "source": [
    "from selenium import webdriver\n",
    "from selenium.webdriver.common.by import By\n",
    "from selenium.webdriver.common.keys import Keys\n",
    "from selenium.webdriver.chrome.service import Service\n",
    "\n",
    "import time\n",
    "import os\n",
    "import re\n",
    "import winsound"
   ]
  },
  {
   "cell_type": "code",
   "execution_count": 4,
   "metadata": {},
   "outputs": [],
   "source": [
    "# Start Chrome\n",
    "\n",
    "# Change the path!!!\n",
    "chrome_path = r\"C:\\Users\\fish\\git_project\\auto_GT_course_register\\chromedriver-win64\\chromedriver.exe\"\n",
    "service = Service(executable_path=chrome_path)\n",
    "driver = webdriver.Chrome(service=service)  # or webdriver.Firefox()"
   ]
  },
  {
   "cell_type": "code",
   "execution_count": 26,
   "metadata": {},
   "outputs": [],
   "source": [
    "web_tab = 0 # Change the this if needed!!!\n",
    "driver.switch_to.window(driver.window_handles[web_tab])\n",
    "print(driver.find_element(By.XPATH, \"/html/body\").text)\n"
   ]
  },
  {
   "cell_type": "code",
   "execution_count": 57,
   "metadata": {},
   "outputs": [],
   "source": [
    "def detect_vacancy(ele_path):\n",
    "    # Find the element by xpath\n",
    "    status_box = driver.find_element(By.XPATH, ele_path)\n",
    "    print(status_box.text)\n",
    "\n",
    "    match = re.search(r\"(\\d+) of (\\d+)\", status_box.text)\n",
    "\n",
    "    if match:\n",
    "        vacant_seats = int(match.group(1))\n",
    "    else:\n",
    "        winsound.Beep(1000, 3000)\n",
    "\n",
    "    if vacant_seats > 0:\n",
    "        winsound.Beep(500, 500)\n",
    "        winsound.Beep(300, 300)\n",
    "        winsound.Beep(1000, 300)\n",
    "        winsound.Beep(500, 500)\n",
    "        winsound.Beep(300, 300)\n",
    "        winsound.Beep(1000, 300)\n",
    "        winsound.Beep(500, 500)\n",
    "        winsound.Beep(300, 300)\n",
    "        winsound.Beep(1000, 300)\n",
    "\n",
    "\n",
    "def refresh():\n",
    "    search_path = '//*[@id=\"search-again-div\"]' # Change the this if needed!!!\n",
    "    search_button= driver.find_element(By.XPATH, search_path)\n",
    "    search_button.click()\n",
    "    time.sleep(1)\n",
    "    search_path_2 = '//*[@id=\"search-go\"]' # Change the this if needed!!!\n",
    "    search_button= driver.find_element(By.XPATH, search_path_2)\n",
    "    search_button.click()\n",
    "\n",
    "def refresh_2(course_number):\n",
    "    driver.refresh()\n",
    "    time.sleep(5)\n",
    "    search_path = '//*[@id=\"txt_courseNumber\"]' # Change the this if needed!!!\n",
    "    search_button= driver.find_element(By.XPATH, search_path)\n",
    "    search_button.send_keys(course_number)\n",
    "    time.sleep(1)\n",
    "    search_path_2 = '//*[@id=\"search-go\"]' # Change the this if needed!!!\n",
    "    search_button= driver.find_element(By.XPATH, search_path_2)\n",
    "    search_button.click()\n",
    "    time.sleep(1)"
   ]
  },
  {
   "cell_type": "code",
   "execution_count": 59,
   "metadata": {},
   "outputs": [
    {
     "name": "stdout",
     "output_type": "stream",
     "text": [
      "FULL: 0 of 125 seats remain.\n",
      "FULL: 0 of 125 seats remain.\n",
      "FULL: 0 of 125 seats remain.\n",
      "FULL: 0 of 125 seats remain.\n",
      "FULL: 0 of 125 seats remain.\n",
      "FULL: 0 of 125 seats remain.\n",
      "FULL: 0 of 125 seats remain.\n",
      "FULL: 0 of 125 seats remain.\n",
      "FULL: 0 of 125 seats remain.\n",
      "FULL: 0 of 125 seats remain.\n",
      "FULL: 0 of 125 seats remain.\n",
      "FULL: 0 of 125 seats remain.\n",
      "FULL: 0 of 125 seats remain.\n",
      "FULL: 0 of 125 seats remain.\n",
      "FULL: 0 of 125 seats remain.\n",
      "FULL: 0 of 125 seats remain.\n",
      "FULL: 0 of 125 seats remain.\n",
      "FULL: 0 of 125 seats remain.\n",
      "FULL: 0 of 125 seats remain.\n"
     ]
    },
    {
     "ename": "KeyboardInterrupt",
     "evalue": "",
     "output_type": "error",
     "traceback": [
      "\u001b[1;31m---------------------------------------------------------------------------\u001b[0m",
      "\u001b[1;31mKeyboardInterrupt\u001b[0m                         Traceback (most recent call last)",
      "Cell \u001b[1;32mIn[59], line 5\u001b[0m\n\u001b[0;32m      3\u001b[0m detect_vacancy(\u001b[38;5;124m'\u001b[39m\u001b[38;5;124m//*[@id=\u001b[39m\u001b[38;5;124m\"\u001b[39m\u001b[38;5;124mtable1\u001b[39m\u001b[38;5;124m\"\u001b[39m\u001b[38;5;124m]/tbody/tr[1]/td[11]/div[1]\u001b[39m\u001b[38;5;124m'\u001b[39m)\n\u001b[0;32m      4\u001b[0m \u001b[38;5;66;03m# refresh()\u001b[39;00m\n\u001b[1;32m----> 5\u001b[0m \u001b[43mrefresh_2\u001b[49m\u001b[43m(\u001b[49m\u001b[38;5;241;43m7637\u001b[39;49m\u001b[43m)\u001b[49m\n",
      "Cell \u001b[1;32mIn[57], line 44\u001b[0m, in \u001b[0;36mrefresh_2\u001b[1;34m(course_number)\u001b[0m\n\u001b[0;32m     42\u001b[0m search_button\u001b[38;5;241m=\u001b[39m driver\u001b[38;5;241m.\u001b[39mfind_element(By\u001b[38;5;241m.\u001b[39mXPATH, search_path_2)\n\u001b[0;32m     43\u001b[0m search_button\u001b[38;5;241m.\u001b[39mclick()\n\u001b[1;32m---> 44\u001b[0m \u001b[43mtime\u001b[49m\u001b[38;5;241;43m.\u001b[39;49m\u001b[43msleep\u001b[49m\u001b[43m(\u001b[49m\u001b[38;5;241;43m1\u001b[39;49m\u001b[43m)\u001b[49m\n",
      "\u001b[1;31mKeyboardInterrupt\u001b[0m: "
     ]
    }
   ],
   "source": [
    "while True:\n",
    "    time.sleep(2)\n",
    "    detect_vacancy('//*[@id=\"table1\"]/tbody/tr[1]/td[11]/div[1]') # Change this!!!\n",
    "    # refresh()\n",
    "    refresh_2(7637) # Change this!!!"
   ]
  },
  {
   "cell_type": "code",
   "execution_count": null,
   "metadata": {},
   "outputs": [],
   "source": []
  }
 ],
 "metadata": {
  "kernelspec": {
   "display_name": "gt_register",
   "language": "python",
   "name": "python3"
  },
  "language_info": {
   "codemirror_mode": {
    "name": "ipython",
    "version": 3
   },
   "file_extension": ".py",
   "mimetype": "text/x-python",
   "name": "python",
   "nbconvert_exporter": "python",
   "pygments_lexer": "ipython3",
   "version": "3.10.14"
  }
 },
 "nbformat": 4,
 "nbformat_minor": 2
}
